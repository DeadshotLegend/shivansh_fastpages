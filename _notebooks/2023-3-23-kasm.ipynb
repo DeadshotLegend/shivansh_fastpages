{
 "cells": [
  {
   "attachments": {},
   "cell_type": "markdown",
   "metadata": {},
   "source": [
    "#  KASM: INTRO GUIDE\n",
    "- toc: true\n",
    "- categories: []"
   ]
  },
  {
   "attachments": {},
   "cell_type": "markdown",
   "metadata": {},
   "source": [
    "# What is KASM?\n",
    "\n",
    "In the words of the KASM co-director:\n",
    "\n",
    "\"KASM Workspaces delivers interactive access to GUI applications and desktop environments running in docker containers. The containers are streamed directly to the browser. The platform is similar to Citrix and VMware Horizon, but entirely container \n",
    "based.\"\n",
    "\n",
    "Essentially, KASM allows you to stream applications from docker containers.\n",
    "\n",
    "[Functionality Link:](https://app.kasmweb.com/#/cast/reddit-uCcsZx5c7U7A2pmb)\n"
   ]
  },
  {
   "attachments": {},
   "cell_type": "markdown",
   "metadata": {},
   "source": [
    "# KASM Functionalities\n",
    "\n",
    "There are many different types of workspaces that KASM offers, such as:\n",
    "\n",
    "1. Desktop Workspaces: Here, you can get desktop access in a moment of seconds from any device and from anywhere around the world. It is done in a secure manner through whichever web browser you like.\n",
    "\n",
    "[Functionality Demo:](https://www.kasmweb.com/#dialog-2)\n",
    "\n",
    "\n",
    "2. Web Isolation Workspaces: There is a \"zero-trust browser isolation\" service. You can launch a private web browsing instance, where there is \"no risk of compromising your endpoint.\" \n",
    "\n",
    "[Functionality Demo:](https://www.kasmweb.com/#dialog-4)\n",
    "\n",
    "\n",
    "3. Application Workspace (App Streaming): **This is the main workspace which we are going to focus on.** This workspace allows for an application container where the KASM platform does most of the heavylifting for us. It is customizable, open source, and kept up to date. You can choose either a server or cloud deployment option, and you can manage your own Self-Hosted Server in a separate version type created for this situation.\n",
    "\n",
    "There are three different option plans for KASM:\n",
    "\n",
    "1. Community Plan: Offers all enterprise features, and it is for personal use. You get community support, but there is a **5 concurrent session limit**. \n",
    "\n",
    "2. Professional Plan: This is a $5 user/month plan. You get next business day support with this plan and a higher session limit.\n",
    "\n",
    "3. Their recommended plan, the Enterprise Plan: This is a $10 user/month plan, where you can get same business day support with all of the supported professional plan features. \n"
   ]
  }
 ],
 "metadata": {
  "language_info": {
   "name": "python"
  },
  "orig_nbformat": 4
 },
 "nbformat": 4,
 "nbformat_minor": 2
}
