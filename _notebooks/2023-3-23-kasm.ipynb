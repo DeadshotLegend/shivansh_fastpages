{
 "cells": [
  {
   "attachments": {},
   "cell_type": "markdown",
   "metadata": {},
   "source": [
    "#  KASM intro guide\n",
    "> KASM 1/3\n",
    "- toc: true\n",
    "- categories: []"
   ]
  },
  {
   "attachments": {},
   "cell_type": "markdown",
   "metadata": {},
   "source": [
    "# What is KASM?\n",
    "\n",
    "From the KASM codirector:\n",
    "\n",
    "\"Kasm Workspaces delivers interactive access to GUI applications and desktop environments running in docker containers. The containers are streamed directly to the browser. The platform is similar to Citrix and VMware Horizon, but entirely container \n",
    "based.\"\n",
    "\n",
    "what Kasm essentially does is allow you to stream applications from docker containers \n",
    "\n",
    "[demolink](https://app.kasmweb.com/#/cast/reddit-uCcsZx5c7U7A2pmb)\n"
   ]
  }
 ],
 "metadata": {
  "language_info": {
   "name": "python"
  },
  "orig_nbformat": 4
 },
 "nbformat": 4,
 "nbformat_minor": 2
}
